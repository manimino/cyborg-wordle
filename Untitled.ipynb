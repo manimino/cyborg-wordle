{
 "cells": [
  {
   "cell_type": "code",
   "execution_count": 13,
   "id": "8e9d96ab",
   "metadata": {},
   "outputs": [],
   "source": [
    "import math\n",
    "\n",
    "\n",
    "def entropy(string):\n",
    "    \"Calculates the Shannon entropy of a string\"\n",
    "\n",
    "    # get probability of chars in string\n",
    "    prob = [ float(string.count(c)) / len(string) for c in dict.fromkeys(list(string)) ]\n",
    "\n",
    "    # calculate the entropy\n",
    "    entropy = - sum([ p * math.log(p) / math.log(2.0) for p in prob ])\n",
    "\n",
    "    return entropy\n",
    "\n",
    "\n",
    "def entropy_ideal(length):\n",
    "    \"Calculates the ideal Shannon entropy of a string with given length\"\n",
    "\n",
    "    prob = 1.0 / length\n",
    "\n",
    "    return -1.0 * length * prob * math.log(prob) / math.log(2.0)\n"
   ]
  },
  {
   "cell_type": "code",
   "execution_count": 15,
   "id": "d9573727",
   "metadata": {},
   "outputs": [
    {
     "name": "stdout",
     "output_type": "stream",
     "text": [
      "SSS -0.0\n",
      "TNH 1.585\n",
      "AEE 0.918\n",
      "LAI 1.585\n",
      "KKK -0.0\n"
     ]
    }
   ],
   "source": [
    "def entropy_list(words):\n",
    "    for i in range(5):\n",
    "        s = ''.join([w[i] for w in words])\n",
    "        print(s, round(entropy(s),3))\n",
    "\n",
    "entropy_list(['STALK', 'SNEAK', 'SHEIK'])"
   ]
  },
  {
   "cell_type": "code",
   "execution_count": null,
   "id": "fbd98dde",
   "metadata": {},
   "outputs": [],
   "source": [
    "-sum(v/len(s)*log2(v/len(s)) for v in ct.values())"
   ]
  }
 ],
 "metadata": {
  "kernelspec": {
   "display_name": "Python 3 (ipykernel)",
   "language": "python",
   "name": "python3"
  },
  "language_info": {
   "codemirror_mode": {
    "name": "ipython",
    "version": 3
   },
   "file_extension": ".py",
   "mimetype": "text/x-python",
   "name": "python",
   "nbconvert_exporter": "python",
   "pygments_lexer": "ipython3",
   "version": "3.9.7"
  }
 },
 "nbformat": 4,
 "nbformat_minor": 5
}
